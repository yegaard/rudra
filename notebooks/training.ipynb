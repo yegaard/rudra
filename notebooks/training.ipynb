{
 "cells": [
  {
   "cell_type": "code",
   "execution_count": 1,
   "id": "c285ba86-706e-478b-9c66-bf39dbf963b8",
   "metadata": {},
   "outputs": [],
   "source": [
    "import pandas as pd\n",
    "import numpy as np\n",
    "from sklearn.model_selection import train_test_split\n",
    "from sklearn.ensemble import RandomForestClassifier\n",
    "from sklearn.preprocessing import StandardScaler\n",
    "from sklearn.pipeline import Pipeline\n",
    "from sklearn.metrics import accuracy_score\n",
    "import pickle"
   ]
  },
  {
   "cell_type": "markdown",
   "id": "05d09711-3ccf-44e6-88f6-f7ee51de8e5a",
   "metadata": {},
   "source": [
    "#### Import data"
   ]
  },
  {
   "cell_type": "code",
   "execution_count": 2,
   "id": "77ed27c1-688f-4192-8ada-95eabf8b8363",
   "metadata": {},
   "outputs": [],
   "source": [
    "df = pd.read_csv('../data/csv/dataset.csv')"
   ]
  },
  {
   "cell_type": "code",
   "execution_count": 3,
   "id": "070dfae6-cc07-47b2-b4a7-7a817171b4e9",
   "metadata": {},
   "outputs": [
    {
     "data": {
      "text/html": [
       "<div>\n",
       "<style scoped>\n",
       "    .dataframe tbody tr th:only-of-type {\n",
       "        vertical-align: middle;\n",
       "    }\n",
       "\n",
       "    .dataframe tbody tr th {\n",
       "        vertical-align: top;\n",
       "    }\n",
       "\n",
       "    .dataframe thead th {\n",
       "        text-align: right;\n",
       "    }\n",
       "</style>\n",
       "<table border=\"1\" class=\"dataframe\">\n",
       "  <thead>\n",
       "    <tr style=\"text-align: right;\">\n",
       "      <th></th>\n",
       "      <th>img</th>\n",
       "      <th>asana</th>\n",
       "      <th>correctness</th>\n",
       "    </tr>\n",
       "  </thead>\n",
       "  <tbody>\n",
       "    <tr>\n",
       "      <th>0</th>\n",
       "      <td>1</td>\n",
       "      <td>downdog</td>\n",
       "      <td>correct</td>\n",
       "    </tr>\n",
       "    <tr>\n",
       "      <th>1</th>\n",
       "      <td>2</td>\n",
       "      <td>downdog</td>\n",
       "      <td>wrong</td>\n",
       "    </tr>\n",
       "    <tr>\n",
       "      <th>2</th>\n",
       "      <td>3</td>\n",
       "      <td>downdog</td>\n",
       "      <td>correct</td>\n",
       "    </tr>\n",
       "    <tr>\n",
       "      <th>3</th>\n",
       "      <td>4</td>\n",
       "      <td>downdog</td>\n",
       "      <td>wrong</td>\n",
       "    </tr>\n",
       "    <tr>\n",
       "      <th>4</th>\n",
       "      <td>5</td>\n",
       "      <td>downdog</td>\n",
       "      <td>correct</td>\n",
       "    </tr>\n",
       "    <tr>\n",
       "      <th>...</th>\n",
       "      <td>...</td>\n",
       "      <td>...</td>\n",
       "      <td>...</td>\n",
       "    </tr>\n",
       "    <tr>\n",
       "      <th>199</th>\n",
       "      <td>200</td>\n",
       "      <td>downdog</td>\n",
       "      <td>correct</td>\n",
       "    </tr>\n",
       "    <tr>\n",
       "      <th>200</th>\n",
       "      <td>201</td>\n",
       "      <td>downdog</td>\n",
       "      <td>wrong</td>\n",
       "    </tr>\n",
       "    <tr>\n",
       "      <th>201</th>\n",
       "      <td>202</td>\n",
       "      <td>downdog</td>\n",
       "      <td>correct</td>\n",
       "    </tr>\n",
       "    <tr>\n",
       "      <th>202</th>\n",
       "      <td>203</td>\n",
       "      <td>downdog</td>\n",
       "      <td>wrong</td>\n",
       "    </tr>\n",
       "    <tr>\n",
       "      <th>203</th>\n",
       "      <td>204</td>\n",
       "      <td>downdog</td>\n",
       "      <td>correct</td>\n",
       "    </tr>\n",
       "  </tbody>\n",
       "</table>\n",
       "<p>204 rows × 3 columns</p>\n",
       "</div>"
      ],
      "text/plain": [
       "     img    asana correctness\n",
       "0      1  downdog     correct\n",
       "1      2  downdog       wrong\n",
       "2      3  downdog     correct\n",
       "3      4  downdog       wrong\n",
       "4      5  downdog     correct\n",
       "..   ...      ...         ...\n",
       "199  200  downdog     correct\n",
       "200  201  downdog       wrong\n",
       "201  202  downdog     correct\n",
       "202  203  downdog       wrong\n",
       "203  204  downdog     correct\n",
       "\n",
       "[204 rows x 3 columns]"
      ]
     },
     "execution_count": 3,
     "metadata": {},
     "output_type": "execute_result"
    }
   ],
   "source": [
    "df\n"
   ]
  },
  {
   "cell_type": "code",
   "execution_count": 4,
   "id": "5a833a17-9666-4572-bd93-b8c1dc78f10e",
   "metadata": {},
   "outputs": [],
   "source": [
    "downdog_df = df[df['asana'] == 'downdog'].drop(columns = 'asana')"
   ]
  },
  {
   "cell_type": "code",
   "execution_count": 5,
   "id": "197fed16-f3ad-4a2a-9865-153a0d382ea5",
   "metadata": {},
   "outputs": [
    {
     "data": {
      "text/html": [
       "<div>\n",
       "<style scoped>\n",
       "    .dataframe tbody tr th:only-of-type {\n",
       "        vertical-align: middle;\n",
       "    }\n",
       "\n",
       "    .dataframe tbody tr th {\n",
       "        vertical-align: top;\n",
       "    }\n",
       "\n",
       "    .dataframe thead th {\n",
       "        text-align: right;\n",
       "    }\n",
       "</style>\n",
       "<table border=\"1\" class=\"dataframe\">\n",
       "  <thead>\n",
       "    <tr style=\"text-align: right;\">\n",
       "      <th></th>\n",
       "      <th>img</th>\n",
       "      <th>correctness</th>\n",
       "    </tr>\n",
       "  </thead>\n",
       "  <tbody>\n",
       "    <tr>\n",
       "      <th>0</th>\n",
       "      <td>1</td>\n",
       "      <td>correct</td>\n",
       "    </tr>\n",
       "    <tr>\n",
       "      <th>1</th>\n",
       "      <td>2</td>\n",
       "      <td>wrong</td>\n",
       "    </tr>\n",
       "    <tr>\n",
       "      <th>2</th>\n",
       "      <td>3</td>\n",
       "      <td>correct</td>\n",
       "    </tr>\n",
       "    <tr>\n",
       "      <th>3</th>\n",
       "      <td>4</td>\n",
       "      <td>wrong</td>\n",
       "    </tr>\n",
       "    <tr>\n",
       "      <th>4</th>\n",
       "      <td>5</td>\n",
       "      <td>correct</td>\n",
       "    </tr>\n",
       "    <tr>\n",
       "      <th>...</th>\n",
       "      <td>...</td>\n",
       "      <td>...</td>\n",
       "    </tr>\n",
       "    <tr>\n",
       "      <th>199</th>\n",
       "      <td>200</td>\n",
       "      <td>correct</td>\n",
       "    </tr>\n",
       "    <tr>\n",
       "      <th>200</th>\n",
       "      <td>201</td>\n",
       "      <td>wrong</td>\n",
       "    </tr>\n",
       "    <tr>\n",
       "      <th>201</th>\n",
       "      <td>202</td>\n",
       "      <td>correct</td>\n",
       "    </tr>\n",
       "    <tr>\n",
       "      <th>202</th>\n",
       "      <td>203</td>\n",
       "      <td>wrong</td>\n",
       "    </tr>\n",
       "    <tr>\n",
       "      <th>203</th>\n",
       "      <td>204</td>\n",
       "      <td>correct</td>\n",
       "    </tr>\n",
       "  </tbody>\n",
       "</table>\n",
       "<p>204 rows × 2 columns</p>\n",
       "</div>"
      ],
      "text/plain": [
       "     img correctness\n",
       "0      1     correct\n",
       "1      2       wrong\n",
       "2      3     correct\n",
       "3      4       wrong\n",
       "4      5     correct\n",
       "..   ...         ...\n",
       "199  200     correct\n",
       "200  201       wrong\n",
       "201  202     correct\n",
       "202  203       wrong\n",
       "203  204     correct\n",
       "\n",
       "[204 rows x 2 columns]"
      ]
     },
     "execution_count": 5,
     "metadata": {},
     "output_type": "execute_result"
    }
   ],
   "source": [
    "downdog_df"
   ]
  },
  {
   "cell_type": "code",
   "execution_count": 7,
   "id": "d22430e2-aa45-49dc-a1fd-86603ca9ae9c",
   "metadata": {},
   "outputs": [],
   "source": [
    "# Define a function to load data from csv files\n",
    "def load_data(file_path):\n",
    "    data = pd.read_csv(f'../data/csv/{file_path}.csv').drop(columns=['visibility', 'presence'])\n",
    "    return data.values.flatten()\n",
    "\n",
    "# Load and preprocess the data\n",
    "X = np.array([load_data(file) for file in downdog_df['img']])\n",
    "y = np.where(downdog_df['correctness'] == 'correct', 1, 0)\n",
    "\n",
    "# Split the data into training and testing sets\n",
    "X_train, X_test, y_train, y_test = train_test_split(X, y, test_size=0.2, random_state=42)"
   ]
  },
  {
   "cell_type": "markdown",
   "id": "fb0c35a4-418c-4ef7-bc64-1d196632b2ef",
   "metadata": {},
   "source": [
    "#### Define and train the model"
   ]
  },
  {
   "cell_type": "code",
   "execution_count": 8,
   "id": "9faf39cc-05df-45a2-ad68-eddfae209580",
   "metadata": {},
   "outputs": [
    {
     "name": "stdout",
     "output_type": "stream",
     "text": [
      "Accuracy: 0.9024390243902439\n"
     ]
    }
   ],
   "source": [
    "# Create a pipeline for preprocessing and model building\n",
    "downdog_model = Pipeline([\n",
    "    ('scaler', StandardScaler()),\n",
    "    ('clf', RandomForestClassifier(n_estimators=100, criterion='entropy', random_state=42))\n",
    "])\n",
    "\n",
    "# Train the model\n",
    "downdog_model.fit(X_train, y_train)\n",
    "\n",
    "# Make predictions\n",
    "y_pred = downdog_model.predict(X_test)\n",
    "\n",
    "# Calculate accuracy\n",
    "accuracy = accuracy_score(y_test, y_pred)\n",
    "print(\"Accuracy:\", accuracy)"
   ]
  },
  {
   "cell_type": "markdown",
   "id": "3f6949cc-8a05-4bf3-abb0-d4a8d9915624",
   "metadata": {},
   "source": [
    "#### Test on a single file"
   ]
  },
  {
   "cell_type": "code",
   "execution_count": 11,
   "id": "955df44e-26a4-4e98-9ea8-a8b7e422adac",
   "metadata": {},
   "outputs": [
    {
     "data": {
      "text/plain": [
       "array([1])"
      ]
     },
     "execution_count": 11,
     "metadata": {},
     "output_type": "execute_result"
    }
   ],
   "source": [
    "U = pd.read_csv(f'../data/csv/1.csv').drop(columns=['visibility', 'presence']).values.flatten()\n",
    "downdog_model.predict([U])"
   ]
  },
  {
   "cell_type": "code",
   "execution_count": 12,
   "id": "0cc45023-628c-4e83-84ce-97dab22231de",
   "metadata": {},
   "outputs": [],
   "source": [
    "with open('../models/downdog_model.pkl', 'wb') as file:\n",
    "    pickle.dump(downdog_model, file)"
   ]
  }
 ],
 "metadata": {
  "kernelspec": {
   "display_name": "thesis-kern",
   "language": "python",
   "name": "thesis-kern"
  },
  "language_info": {
   "codemirror_mode": {
    "name": "ipython",
    "version": 3
   },
   "file_extension": ".py",
   "mimetype": "text/x-python",
   "name": "python",
   "nbconvert_exporter": "python",
   "pygments_lexer": "ipython3",
   "version": "3.11.8"
  }
 },
 "nbformat": 4,
 "nbformat_minor": 5
}
