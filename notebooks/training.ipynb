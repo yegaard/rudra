{
 "cells": [
  {
   "cell_type": "code",
   "execution_count": 1,
   "id": "c285ba86-706e-478b-9c66-bf39dbf963b8",
   "metadata": {},
   "outputs": [],
   "source": [
    "import pandas as pd\n",
    "import numpy as np\n",
    "from sklearn.model_selection import train_test_split\n",
    "from sklearn.ensemble import RandomForestClassifier\n",
    "from sklearn.ensemble import GradientBoostingClassifier\n",
    "from sklearn.linear_model import LogisticRegression\n",
    "from sklearn.preprocessing import StandardScaler\n",
    "from sklearn.pipeline import Pipeline\n",
    "from sklearn.metrics import accuracy_score\n",
    "import pickle"
   ]
  },
  {
   "cell_type": "markdown",
   "id": "05d09711-3ccf-44e6-88f6-f7ee51de8e5a",
   "metadata": {},
   "source": [
    "#### Import data"
   ]
  },
  {
   "cell_type": "code",
   "execution_count": 2,
   "id": "77ed27c1-688f-4192-8ada-95eabf8b8363",
   "metadata": {},
   "outputs": [],
   "source": [
    "df = pd.read_csv('../data/csv/dataset.csv')"
   ]
  },
  {
   "cell_type": "code",
   "execution_count": 3,
   "id": "070dfae6-cc07-47b2-b4a7-7a817171b4e9",
   "metadata": {},
   "outputs": [
    {
     "data": {
      "text/html": [
       "<div>\n",
       "<style scoped>\n",
       "    .dataframe tbody tr th:only-of-type {\n",
       "        vertical-align: middle;\n",
       "    }\n",
       "\n",
       "    .dataframe tbody tr th {\n",
       "        vertical-align: top;\n",
       "    }\n",
       "\n",
       "    .dataframe thead th {\n",
       "        text-align: right;\n",
       "    }\n",
       "</style>\n",
       "<table border=\"1\" class=\"dataframe\">\n",
       "  <thead>\n",
       "    <tr style=\"text-align: right;\">\n",
       "      <th></th>\n",
       "      <th>img</th>\n",
       "      <th>asana</th>\n",
       "      <th>correctness</th>\n",
       "    </tr>\n",
       "  </thead>\n",
       "  <tbody>\n",
       "    <tr>\n",
       "      <th>0</th>\n",
       "      <td>1</td>\n",
       "      <td>downdog</td>\n",
       "      <td>correct</td>\n",
       "    </tr>\n",
       "    <tr>\n",
       "      <th>1</th>\n",
       "      <td>2</td>\n",
       "      <td>downdog</td>\n",
       "      <td>wrong</td>\n",
       "    </tr>\n",
       "    <tr>\n",
       "      <th>2</th>\n",
       "      <td>3</td>\n",
       "      <td>downdog</td>\n",
       "      <td>correct</td>\n",
       "    </tr>\n",
       "    <tr>\n",
       "      <th>3</th>\n",
       "      <td>4</td>\n",
       "      <td>downdog</td>\n",
       "      <td>wrong</td>\n",
       "    </tr>\n",
       "    <tr>\n",
       "      <th>4</th>\n",
       "      <td>5</td>\n",
       "      <td>downdog</td>\n",
       "      <td>correct</td>\n",
       "    </tr>\n",
       "    <tr>\n",
       "      <th>...</th>\n",
       "      <td>...</td>\n",
       "      <td>...</td>\n",
       "      <td>...</td>\n",
       "    </tr>\n",
       "    <tr>\n",
       "      <th>375</th>\n",
       "      <td>376</td>\n",
       "      <td>cobra</td>\n",
       "      <td>correct</td>\n",
       "    </tr>\n",
       "    <tr>\n",
       "      <th>376</th>\n",
       "      <td>377</td>\n",
       "      <td>cobra</td>\n",
       "      <td>correct</td>\n",
       "    </tr>\n",
       "    <tr>\n",
       "      <th>377</th>\n",
       "      <td>378</td>\n",
       "      <td>cobra</td>\n",
       "      <td>correct</td>\n",
       "    </tr>\n",
       "    <tr>\n",
       "      <th>378</th>\n",
       "      <td>379</td>\n",
       "      <td>cobra</td>\n",
       "      <td>correct</td>\n",
       "    </tr>\n",
       "    <tr>\n",
       "      <th>379</th>\n",
       "      <td>380</td>\n",
       "      <td>cobra</td>\n",
       "      <td>correct</td>\n",
       "    </tr>\n",
       "  </tbody>\n",
       "</table>\n",
       "<p>380 rows × 3 columns</p>\n",
       "</div>"
      ],
      "text/plain": [
       "     img    asana correctness\n",
       "0      1  downdog     correct\n",
       "1      2  downdog       wrong\n",
       "2      3  downdog     correct\n",
       "3      4  downdog       wrong\n",
       "4      5  downdog     correct\n",
       "..   ...      ...         ...\n",
       "375  376    cobra     correct\n",
       "376  377    cobra     correct\n",
       "377  378    cobra     correct\n",
       "378  379    cobra     correct\n",
       "379  380    cobra     correct\n",
       "\n",
       "[380 rows x 3 columns]"
      ]
     },
     "execution_count": 3,
     "metadata": {},
     "output_type": "execute_result"
    }
   ],
   "source": [
    "df\n"
   ]
  },
  {
   "cell_type": "markdown",
   "id": "b9faaef3",
   "metadata": {},
   "source": [
    "### Downdog model"
   ]
  },
  {
   "cell_type": "code",
   "execution_count": 4,
   "id": "5a833a17-9666-4572-bd93-b8c1dc78f10e",
   "metadata": {},
   "outputs": [],
   "source": [
    "downdog_df = df[df['asana'] == 'downdog'].drop(columns = 'asana')"
   ]
  },
  {
   "cell_type": "code",
   "execution_count": 5,
   "id": "197fed16-f3ad-4a2a-9865-153a0d382ea5",
   "metadata": {},
   "outputs": [
    {
     "data": {
      "text/html": [
       "<div>\n",
       "<style scoped>\n",
       "    .dataframe tbody tr th:only-of-type {\n",
       "        vertical-align: middle;\n",
       "    }\n",
       "\n",
       "    .dataframe tbody tr th {\n",
       "        vertical-align: top;\n",
       "    }\n",
       "\n",
       "    .dataframe thead th {\n",
       "        text-align: right;\n",
       "    }\n",
       "</style>\n",
       "<table border=\"1\" class=\"dataframe\">\n",
       "  <thead>\n",
       "    <tr style=\"text-align: right;\">\n",
       "      <th></th>\n",
       "      <th>img</th>\n",
       "      <th>correctness</th>\n",
       "    </tr>\n",
       "  </thead>\n",
       "  <tbody>\n",
       "    <tr>\n",
       "      <th>0</th>\n",
       "      <td>1</td>\n",
       "      <td>correct</td>\n",
       "    </tr>\n",
       "    <tr>\n",
       "      <th>1</th>\n",
       "      <td>2</td>\n",
       "      <td>wrong</td>\n",
       "    </tr>\n",
       "    <tr>\n",
       "      <th>2</th>\n",
       "      <td>3</td>\n",
       "      <td>correct</td>\n",
       "    </tr>\n",
       "    <tr>\n",
       "      <th>3</th>\n",
       "      <td>4</td>\n",
       "      <td>wrong</td>\n",
       "    </tr>\n",
       "    <tr>\n",
       "      <th>4</th>\n",
       "      <td>5</td>\n",
       "      <td>correct</td>\n",
       "    </tr>\n",
       "    <tr>\n",
       "      <th>...</th>\n",
       "      <td>...</td>\n",
       "      <td>...</td>\n",
       "    </tr>\n",
       "    <tr>\n",
       "      <th>199</th>\n",
       "      <td>200</td>\n",
       "      <td>correct</td>\n",
       "    </tr>\n",
       "    <tr>\n",
       "      <th>200</th>\n",
       "      <td>201</td>\n",
       "      <td>wrong</td>\n",
       "    </tr>\n",
       "    <tr>\n",
       "      <th>201</th>\n",
       "      <td>202</td>\n",
       "      <td>correct</td>\n",
       "    </tr>\n",
       "    <tr>\n",
       "      <th>202</th>\n",
       "      <td>203</td>\n",
       "      <td>wrong</td>\n",
       "    </tr>\n",
       "    <tr>\n",
       "      <th>203</th>\n",
       "      <td>204</td>\n",
       "      <td>correct</td>\n",
       "    </tr>\n",
       "  </tbody>\n",
       "</table>\n",
       "<p>204 rows × 2 columns</p>\n",
       "</div>"
      ],
      "text/plain": [
       "     img correctness\n",
       "0      1     correct\n",
       "1      2       wrong\n",
       "2      3     correct\n",
       "3      4       wrong\n",
       "4      5     correct\n",
       "..   ...         ...\n",
       "199  200     correct\n",
       "200  201       wrong\n",
       "201  202     correct\n",
       "202  203       wrong\n",
       "203  204     correct\n",
       "\n",
       "[204 rows x 2 columns]"
      ]
     },
     "execution_count": 5,
     "metadata": {},
     "output_type": "execute_result"
    }
   ],
   "source": [
    "downdog_df"
   ]
  },
  {
   "cell_type": "code",
   "execution_count": 6,
   "id": "ff4a0549",
   "metadata": {},
   "outputs": [],
   "source": [
    "# Define a function to load data from csv files\n",
    "def load_data(file_path):\n",
    "    data = pd.read_csv(f'../data/csv/{file_path}.csv').drop(columns=['visibility', 'presence'])\n",
    "    return data.values.flatten()"
   ]
  },
  {
   "cell_type": "code",
   "execution_count": 7,
   "id": "d22430e2-aa45-49dc-a1fd-86603ca9ae9c",
   "metadata": {},
   "outputs": [],
   "source": [
    "# Load and preprocess the data\n",
    "X = np.array([load_data(file) for file in downdog_df['img']])\n",
    "y = downdog_df['correctness']\n",
    "\n",
    "# Split the data into training and testing sets\n",
    "X_train, X_test, y_train, y_test = train_test_split(X, y, test_size=0.2, random_state=42)"
   ]
  },
  {
   "cell_type": "markdown",
   "id": "fb0c35a4-418c-4ef7-bc64-1d196632b2ef",
   "metadata": {},
   "source": [
    "#### Define and train the model"
   ]
  },
  {
   "cell_type": "code",
   "execution_count": 8,
   "id": "9faf39cc-05df-45a2-ad68-eddfae209580",
   "metadata": {},
   "outputs": [
    {
     "name": "stdout",
     "output_type": "stream",
     "text": [
      "Accuracy: 0.9024390243902439\n"
     ]
    }
   ],
   "source": [
    "# Create a pipeline for preprocessing and model building\n",
    "downdog_model = Pipeline([\n",
    "    ('scaler', StandardScaler()),\n",
    "    ('clf', RandomForestClassifier(n_estimators=100, criterion='entropy', random_state=42))\n",
    "])\n",
    "\n",
    "# Train the model\n",
    "downdog_model.fit(X_train, y_train)\n",
    "\n",
    "# Make predictions\n",
    "y_pred = downdog_model.predict(X_test)\n",
    "\n",
    "# Calculate accuracy\n",
    "accuracy = accuracy_score(y_test, y_pred)\n",
    "print(\"Accuracy:\", accuracy)"
   ]
  },
  {
   "cell_type": "markdown",
   "id": "3f6949cc-8a05-4bf3-abb0-d4a8d9915624",
   "metadata": {},
   "source": [
    "#### Test on a single file"
   ]
  },
  {
   "cell_type": "code",
   "execution_count": 9,
   "id": "955df44e-26a4-4e98-9ea8-a8b7e422adac",
   "metadata": {},
   "outputs": [
    {
     "data": {
      "text/plain": [
       "array(['correct'], dtype=object)"
      ]
     },
     "execution_count": 9,
     "metadata": {},
     "output_type": "execute_result"
    }
   ],
   "source": [
    "U = pd.read_csv(f'../data/csv/19.csv').drop(columns=['visibility', 'presence']).values.flatten()\n",
    "downdog_model.predict([U])"
   ]
  },
  {
   "cell_type": "markdown",
   "id": "bf204e53",
   "metadata": {},
   "source": [
    "#### Save downdog model"
   ]
  },
  {
   "cell_type": "code",
   "execution_count": 10,
   "id": "0cc45023-628c-4e83-84ce-97dab22231de",
   "metadata": {},
   "outputs": [],
   "source": [
    "with open('../models/downdog_model.pkl', 'wb') as file:\n",
    "    pickle.dump(downdog_model, file)"
   ]
  },
  {
   "cell_type": "markdown",
   "id": "5bfc3e7c",
   "metadata": {},
   "source": [
    "### Updog model"
   ]
  },
  {
   "cell_type": "code",
   "execution_count": 11,
   "id": "51355e52",
   "metadata": {},
   "outputs": [],
   "source": [
    "updog_df = df[df['asana'] == 'updog'].drop(columns = 'asana')"
   ]
  },
  {
   "cell_type": "code",
   "execution_count": 12,
   "id": "d402be2b",
   "metadata": {},
   "outputs": [],
   "source": [
    "X = np.array([load_data(file) for file in updog_df['img']])\n",
    "y = updog_df['correctness']\n",
    "\n",
    "# Split the data into training and testing sets\n",
    "X_train, X_test, y_train, y_test = train_test_split(X, y, test_size=0.1, random_state=42)"
   ]
  },
  {
   "cell_type": "code",
   "execution_count": 13,
   "id": "471f816c",
   "metadata": {},
   "outputs": [
    {
     "name": "stdout",
     "output_type": "stream",
     "text": [
      "Accuracy: 0.8\n"
     ]
    }
   ],
   "source": [
    "# Create a pipeline for preprocessing and model building\n",
    "updog_model = Pipeline([\n",
    "    ('scaler', StandardScaler()),\n",
    "    ('clf', RandomForestClassifier(n_estimators=100, criterion='gini', random_state=42))\n",
    "])\n",
    "\n",
    "# Train the model\n",
    "updog_model.fit(X_train, y_train)\n",
    "\n",
    "# Make predictions\n",
    "y_pred = updog_model.predict(X_test)\n",
    "\n",
    "# Calculate accuracy\n",
    "accuracy = accuracy_score(y_test, y_pred)\n",
    "print(\"Accuracy:\", accuracy)"
   ]
  },
  {
   "cell_type": "code",
   "execution_count": 14,
   "id": "4aedf4f3",
   "metadata": {},
   "outputs": [
    {
     "data": {
      "text/plain": [
       "array(['wrong'], dtype=object)"
      ]
     },
     "execution_count": 14,
     "metadata": {},
     "output_type": "execute_result"
    }
   ],
   "source": [
    "U = pd.read_csv(f'../data/csv/258.csv').drop(columns=['visibility', 'presence']).values.flatten()\n",
    "updog_model.predict([U])"
   ]
  },
  {
   "cell_type": "code",
   "execution_count": 15,
   "id": "2c66b9e7",
   "metadata": {},
   "outputs": [],
   "source": [
    "with open('../models/updog_model.pkl', 'wb') as file:\n",
    "    pickle.dump(updog_model, file)"
   ]
  },
  {
   "cell_type": "markdown",
   "id": "f5c7a10d",
   "metadata": {},
   "source": [
    "### Cobra model"
   ]
  },
  {
   "cell_type": "code",
   "execution_count": 16,
   "id": "18247f1e",
   "metadata": {},
   "outputs": [],
   "source": [
    "cobra_df = df[df['asana'] == 'cobra'].drop(columns = 'asana')"
   ]
  },
  {
   "cell_type": "code",
   "execution_count": 17,
   "id": "66d292cf",
   "metadata": {},
   "outputs": [],
   "source": [
    "X = np.array([load_data(file) for file in cobra_df['img']])\n",
    "y = cobra_df['correctness']\n",
    "\n",
    "# Split the data into training and testing sets\n",
    "X_train, X_test, y_train, y_test = train_test_split(X, y, test_size=0.1, random_state=42)"
   ]
  },
  {
   "cell_type": "code",
   "execution_count": 18,
   "id": "c22cbbc0",
   "metadata": {},
   "outputs": [
    {
     "name": "stdout",
     "output_type": "stream",
     "text": [
      "Accuracy: 0.7777777777777778\n"
     ]
    }
   ],
   "source": [
    "# Create a pipeline for preprocessing and model building\n",
    "cobra_model = Pipeline([\n",
    "    ('scaler', StandardScaler()),\n",
    "    ('clf', RandomForestClassifier(n_estimators=100, criterion='gini', random_state=42))\n",
    "])\n",
    "\n",
    "# Train the model\n",
    "cobra_model.fit(X_train, y_train)\n",
    "\n",
    "# Make predictions\n",
    "y_pred = cobra_model.predict(X_test)\n",
    "\n",
    "# Calculate accuracy\n",
    "accuracy = accuracy_score(y_test, y_pred)\n",
    "print(\"Accuracy:\", accuracy)"
   ]
  },
  {
   "cell_type": "code",
   "execution_count": 19,
   "id": "15958f18",
   "metadata": {},
   "outputs": [],
   "source": [
    "with open('../models/cobra_model.pkl', 'wb') as file:\n",
    "    pickle.dump(cobra_model, file)"
   ]
  },
  {
   "cell_type": "markdown",
   "id": "b7f15271",
   "metadata": {},
   "source": [
    "### General asana model"
   ]
  },
  {
   "cell_type": "code",
   "execution_count": 20,
   "id": "829e9e72",
   "metadata": {},
   "outputs": [],
   "source": [
    "X = np.array([load_data(file) for file in df['img']])\n",
    "y = df['asana']\n",
    "\n",
    "# Split the data into training and testing sets\n",
    "X_train, X_test, y_train, y_test = train_test_split(X, y, test_size=0.1, random_state=42)"
   ]
  },
  {
   "cell_type": "code",
   "execution_count": 21,
   "id": "b5df613b",
   "metadata": {},
   "outputs": [
    {
     "name": "stdout",
     "output_type": "stream",
     "text": [
      "Accuracy: 0.868421052631579\n"
     ]
    }
   ],
   "source": [
    "# Create a pipeline for preprocessing and model building\n",
    "asana_model = Pipeline([\n",
    "    ('scaler', StandardScaler()),\n",
    "    ('clf', RandomForestClassifier(n_estimators=100, criterion='gini', random_state=42))\n",
    "])\n",
    "\n",
    "# Train the model\n",
    "asana_model.fit(X_train, y_train)\n",
    "\n",
    "# Make predictions\n",
    "y_pred = asana_model.predict(X_test)\n",
    "\n",
    "# Calculate accuracy\n",
    "accuracy = accuracy_score(y_test, y_pred)\n",
    "print(\"Accuracy:\", accuracy)"
   ]
  },
  {
   "cell_type": "code",
   "execution_count": 22,
   "id": "f60b2990",
   "metadata": {},
   "outputs": [],
   "source": [
    "with open('../models/asana_model.pkl', 'wb') as file:\n",
    "    pickle.dump(asana_model, file)"
   ]
  }
 ],
 "metadata": {
  "kernelspec": {
   "display_name": "rudra",
   "language": "python",
   "name": "python3"
  },
  "language_info": {
   "codemirror_mode": {
    "name": "ipython",
    "version": 3
   },
   "file_extension": ".py",
   "mimetype": "text/x-python",
   "name": "python",
   "nbconvert_exporter": "python",
   "pygments_lexer": "ipython3",
   "version": "3.11.9"
  }
 },
 "nbformat": 4,
 "nbformat_minor": 5
}
