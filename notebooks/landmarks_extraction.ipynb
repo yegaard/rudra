{
 "cells": [
  {
   "cell_type": "code",
   "execution_count": 1,
   "id": "03a15723-a69a-42ae-b740-7a6f0a6d56f6",
   "metadata": {},
   "outputs": [],
   "source": [
    "#!wget -O pose_models/pose_landmarker_lite.task -q https://storage.googleapis.com/mediapipe-models/pose_landmarker/pose_landmarker_lite/float16/1/pose_landmarker_lite.task\n",
    "#!wget -O pose_models/pose_landmarker_full.task -q https://storage.googleapis.com/mediapipe-models/pose_landmarker/pose_landmarker_full/float16/1/pose_landmarker_full.task\n",
    "#!wget -O pose_models/pose_landmarker_heavy.task -q https://storage.googleapis.com/mediapipe-models/pose_landmarker/pose_landmarker_heavy/float16/1/pose_landmarker_heavy.task"
   ]
  },
  {
   "cell_type": "code",
   "execution_count": 2,
   "id": "f16fd8e1-5287-4c01-bb0c-815ae086d449",
   "metadata": {
    "scrolled": true
   },
   "outputs": [],
   "source": [
    "# Import the necessary modules.\n",
    "import mediapipe as mp\n",
    "from mediapipe.tasks import python\n",
    "from mediapipe.tasks.python import vision\n",
    "import pandas as pd\n",
    "import os"
   ]
  },
  {
   "cell_type": "markdown",
   "id": "6cc0867f-14ef-455a-b1d3-f7d0563e71fd",
   "metadata": {},
   "source": [
    "#### Extract the landmarks for training data"
   ]
  },
  {
   "cell_type": "code",
   "execution_count": 3,
   "id": "7e25ac55-3743-432e-b870-dc6be2f4340b",
   "metadata": {},
   "outputs": [
    {
     "name": "stderr",
     "output_type": "stream",
     "text": [
      "WARNING: All log messages before absl::InitializeLog() is called are written to STDERR\n",
      "I0000 00:00:1714405346.493764   47816 gl_context_egl.cc:85] Successfully initialized EGL. Major : 1 Minor: 5\n",
      "I0000 00:00:1714405346.496810   47877 gl_context.cc:357] GL version: 3.2 (OpenGL ES 3.2 Mesa 24.0.6-arch1.2), renderer: Mesa Intel(R) HD Graphics 620 (KBL GT2)\n",
      "INFO: Created TensorFlow Lite XNNPACK delegate for CPU.\n"
     ]
    }
   ],
   "source": [
    "# Create an PoseLandmarker object.\n",
    "base_options = python.BaseOptions(model_asset_path='../models/pose_landmarker_heavy.task')\n",
    "options = vision.PoseLandmarkerOptions(\n",
    "    base_options=base_options,\n",
    "    output_segmentation_masks=True)\n",
    "detector = vision.PoseLandmarker.create_from_options(options)\n",
    "\n",
    "# Sets the result listener to receive the landmarker results asynchronously when Pose Landmarker is in the live stream mode. Can only be used when running mode is set to LIVE_STREAMLoop through all the images in the 'data/img/' directory.\n",
    "img_dir = \"../data/img/\"\n",
    "output_dir = \"../data/csv/\"\n",
    "\n",
    "for img_file in os.listdir(img_dir):\n",
    "    if img_file.endswith(\".jpg\"):\n",
    "        # STEP 4: Load the input image.\n",
    "        image = mp.Image.create_from_file(os.path.join(img_dir, img_file))\n",
    "        \n",
    "        # STEP 5: Detect pose landmarks from the input image.\n",
    "        detection_result = detector.detect(image)\n",
    "        \n",
    "        # Convert pose_landmarks to a list of dictionaries\n",
    "        data = []\n",
    "        for pose_landmarks in detection_result.pose_landmarks:\n",
    "            landmarks_data = []\n",
    "            for pose_landmark in pose_landmarks:\n",
    "                landmarks_data.append({\n",
    "                    'x': pose_landmark.x,\n",
    "                    'y': pose_landmark.y,\n",
    "                    'z': pose_landmark.z,\n",
    "                    'visibility': pose_landmark.visibility,\n",
    "                    'presence': pose_landmark.presence\n",
    "                })\n",
    "            data.extend(landmarks_data)\n",
    "        \n",
    "        # Create a DataFrame from the list of dictionaries\n",
    "        df = pd.DataFrame(data)\n",
    "        \n",
    "        # Save the DataFrame as a CSV file\n",
    "        csv_filename = os.path.splitext(img_file)[0] + \".csv\"\n",
    "        df.to_csv(os.path.join(output_dir, csv_filename), index=False)"
   ]
  }
 ],
 "metadata": {
  "kernelspec": {
   "display_name": "thesis-kern",
   "language": "python",
   "name": "thesis-kern"
  },
  "language_info": {
   "codemirror_mode": {
    "name": "ipython",
    "version": 3
   },
   "file_extension": ".py",
   "mimetype": "text/x-python",
   "name": "python",
   "nbconvert_exporter": "python",
   "pygments_lexer": "ipython3",
   "version": "3.11.8"
  }
 },
 "nbformat": 4,
 "nbformat_minor": 5
}
